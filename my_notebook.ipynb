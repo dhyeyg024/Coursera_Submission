{
 "cells": [
  {
   "cell_type": "markdown",
   "metadata": {
    "collapsed": true
   },
   "source": [
    "<h1> My Jupyter Notebook on IBM Watson Studio </h1>"
   ]
  },
  {
   "cell_type": "markdown",
   "metadata": {},
   "source": [
    "<b> Dhyey Gandhi </b><br>\n",
    "Data Scientist at IBM"
   ]
  },
  {
   "cell_type": "markdown",
   "metadata": {},
   "source": [
    "<i> i am intetrested in Data Science because I love to interact and work with data. I really find it more interesting as compared todeveloping apps or doing something else. </i>"
   ]
  },
  {
   "cell_type": "markdown",
   "metadata": {},
   "source": [
    "<h3> The below code will check whether the inserted number is odd or even. </h3>"
   ]
  },
  {
   "cell_type": "code",
   "execution_count": 6,
   "metadata": {},
   "outputs": [
    {
     "name": "stdout",
     "output_type": "stream",
     "text": [
      "Enter a number:1\n",
      "Number is odd\n"
     ]
    }
   ],
   "source": [
    "a = int(input('Enter a number:'))\n",
    "if a%2 == 0:\n",
    "    print('Number is even')\n",
    "else:\n",
    "    print('Number is odd')"
   ]
  },
  {
   "cell_type": "markdown",
   "metadata": {},
   "source": [
    "<html>\n",
    "    \n",
    "<p>Following steps are involed in this code: </p>\n",
    "<ul>\n",
    "  <li>Take input from user</li>\n",
    "  <li>check if the number is divided by 2 and remainder remains?</li>\n",
    "  <li>if remainder is 0, print the number is even else print number is odd</li>\n",
    "</ul>\n",
    "        \n",
    "<p><s> Its the most simple code </s></p>\n",
    "\n",
    "<p>Some common applications of Data Science: </p>\n",
    "<ol>\n",
    "  <li>Stock Price PRediction</li>\n",
    "  <li>Facial Recognisation</li>\n",
    "  <li>Business Insight</li>\n",
    "</ol>\n",
    "        \n",
    "    \n",
    "</html>"
   ]
  },
  {
   "cell_type": "code",
   "execution_count": null,
   "metadata": {},
   "outputs": [],
   "source": []
  }
 ],
 "metadata": {
  "kernelspec": {
   "display_name": "Python 3.9",
   "language": "python",
   "name": "python3"
  },
  "language_info": {
   "codemirror_mode": {
    "name": "ipython",
    "version": 3
   },
   "file_extension": ".py",
   "mimetype": "text/x-python",
   "name": "python",
   "nbconvert_exporter": "python",
   "pygments_lexer": "ipython3",
   "version": "3.9.13"
  }
 },
 "nbformat": 4,
 "nbformat_minor": 1
}
